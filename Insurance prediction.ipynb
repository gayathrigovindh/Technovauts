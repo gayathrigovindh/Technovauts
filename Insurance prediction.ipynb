{
 "cells": [
  {
   "cell_type": "code",
   "execution_count": 122,
   "metadata": {},
   "outputs": [],
   "source": [
    "import pandas as pd\n",
    "import numpy as np\n",
    "from sklearn.linear_model import LinearRegression\n",
    "from sklearn.metrics import accuracy_score\n",
    "from sklearn.cross_validation import train_test_split\n",
    "from matplotlib import pyplot as plt\n",
    "from matplotlib import style\n",
    "import statsmodels.formula.api as st"
   ]
  },
  {
   "cell_type": "code",
   "execution_count": 123,
   "metadata": {},
   "outputs": [],
   "source": [
    "insurance = pd.read_csv(\"Desktop/Insurance.csv\")"
   ]
  },
  {
   "cell_type": "code",
   "execution_count": 124,
   "metadata": {},
   "outputs": [
    {
     "name": "stdout",
     "output_type": "stream",
     "text": [
      "   age     sex     bmi  children smoker     region      charges\n",
      "0   19  female  27.900         0    yes  southwest  16884.92400\n",
      "1   18    male  33.770         1     no  southeast   1725.55230\n",
      "2   28    male  33.000         3     no  southeast   4449.46200\n",
      "3   33    male  22.705         0     no  northwest  21984.47061\n",
      "4   32    male  28.880         0     no  northwest   3866.85520\n"
     ]
    }
   ],
   "source": [
    "print(insurance.head(5))"
   ]
  },
  {
   "cell_type": "code",
   "execution_count": 125,
   "metadata": {},
   "outputs": [
    {
     "name": "stdout",
     "output_type": "stream",
     "text": [
      "   male\n",
      "0     0\n",
      "1     1\n",
      "2     1\n",
      "3     1\n",
      "4     1\n"
     ]
    }
   ],
   "source": [
    "gender=pd.get_dummies(insurance['sex'],drop_first = True)\n",
    "print(gender.head(5))"
   ]
  },
  {
   "cell_type": "code",
   "execution_count": 126,
   "metadata": {},
   "outputs": [
    {
     "name": "stdout",
     "output_type": "stream",
     "text": [
      "   yes\n",
      "0    1\n",
      "1    0\n",
      "2    0\n",
      "3    0\n",
      "4    0\n"
     ]
    }
   ],
   "source": [
    "smoke=pd.get_dummies(insurance['smoker'], drop_first = True)\n",
    "print(smoke.head(5))"
   ]
  },
  {
   "cell_type": "code",
   "execution_count": 127,
   "metadata": {},
   "outputs": [
    {
     "name": "stdout",
     "output_type": "stream",
     "text": [
      "   age     sex     bmi  children smoker     region      charges  male  yes\n",
      "0   19  female  27.900         0    yes  southwest  16884.92400     0    1\n",
      "1   18    male  33.770         1     no  southeast   1725.55230     1    0\n",
      "2   28    male  33.000         3     no  southeast   4449.46200     1    0\n",
      "3   33    male  22.705         0     no  northwest  21984.47061     1    0\n",
      "4   32    male  28.880         0     no  northwest   3866.85520     1    0\n"
     ]
    }
   ],
   "source": [
    "insurance = pd.concat([insurance,gender,smoke],axis=1)\n",
    "print(insurance.head(5))"
   ]
  },
  {
   "cell_type": "code",
   "execution_count": 128,
   "metadata": {},
   "outputs": [
    {
     "name": "stdout",
     "output_type": "stream",
     "text": [
      "   age     bmi  children      charges  male  yes\n",
      "0   19  27.900         0  16884.92400     0    1\n",
      "1   18  33.770         1   1725.55230     1    0\n",
      "2   28  33.000         3   4449.46200     1    0\n",
      "3   33  22.705         0  21984.47061     1    0\n",
      "4   32  28.880         0   3866.85520     1    0\n"
     ]
    }
   ],
   "source": [
    "insurance.drop(['sex','smoker','region'],axis=1,inplace=True)\n",
    "print(insurance.head(5))"
   ]
  },
  {
   "cell_type": "code",
   "execution_count": 129,
   "metadata": {},
   "outputs": [
    {
     "name": "stdout",
     "output_type": "stream",
     "text": [
      "      age    bmi  children     charges  male  yes\n",
      "1333   50  30.97         3  10600.5483     1    0\n",
      "1334   18  31.92         0   2205.9808     0    0\n",
      "1335   18  36.85         0   1629.8335     0    0\n",
      "1336   21  25.80         0   2007.9450     0    0\n",
      "1337   61  29.07         0  29141.3603     0    1\n"
     ]
    }
   ],
   "source": [
    "print(insurance.tail(5))"
   ]
  },
  {
   "cell_type": "code",
   "execution_count": 130,
   "metadata": {},
   "outputs": [],
   "source": [
    "X=(insurance.iloc[:,[0,1,2,4,5]].values)\n",
    "Y=(insurance.iloc[:,[3]].values)"
   ]
  },
  {
   "cell_type": "code",
   "execution_count": 131,
   "metadata": {},
   "outputs": [],
   "source": [
    "X_train,X_test,Y_train,Y_test=train_test_split(X,Y,test_size=0.2,random_state=4)"
   ]
  },
  {
   "cell_type": "code",
   "execution_count": 132,
   "metadata": {},
   "outputs": [],
   "source": [
    "reg = LinearRegression().fit(X_train, Y_train)\n",
    "Y_pred = reg.predict(X_test)"
   ]
  },
  {
   "cell_type": "code",
   "execution_count": 133,
   "metadata": {},
   "outputs": [
    {
     "name": "stdout",
     "output_type": "stream",
     "text": [
      "0.699572339532746\n"
     ]
    }
   ],
   "source": [
    "r2_score = reg.score(X_test,Y_test)\n",
    "print(r2_score)"
   ]
  },
  {
   "cell_type": "code",
   "execution_count": 134,
   "metadata": {},
   "outputs": [
    {
     "data": {
      "image/png": "[encoded data removed]",
      "text/plain": [
       "<Figure size 432x288 with 1 Axes>"
      ]
     },
     "metadata": {},
     "output_type": "display_data"
    }
   ],
   "source": [
    "plt.scatter(insurance.bmi.head(500),insurance.charges.head(500))\n",
    "plt.show()"
   ]
  },
  {
   "cell_type": "code",
   "execution_count": 135,
   "metadata": {},
   "outputs": [
    {
     "name": "stdout",
     "output_type": "stream",
     "text": [
      "[[  263.17564847   305.39865597   396.72909921  -349.77131205\n",
      "  24531.93659984]]\n"
     ]
    }
   ],
   "source": [
    "print(reg.coef_)"
   ]
  },
  {
   "cell_type": "code",
   "execution_count": 136,
   "metadata": {},
   "outputs": [
    {
     "name": "stdout",
     "output_type": "stream",
     "text": [
      "[-11546.45473893]\n"
     ]
    }
   ],
   "source": [
    "print(reg.intercept_)"
   ]
  },
  {
   "cell_type": "code",
   "execution_count": 137,
   "metadata": {},
   "outputs": [
    {
     "data": {
      "image/png": "[encoded data removed]",
      "text/plain": [
       "<Figure size 432x288 with 1 Axes>"
      ]
     },
     "metadata": {},
     "output_type": "display_data"
    }
   ],
   "source": [
    "plt.scatter(Y_test[0:20], Y_pred[0:20])\n",
    "plt.xlabel(\"True Values\")\n",
    "plt.ylabel(\"Predictions\")\n",
    "plt.show()"
   ]
  }
 ],
 "metadata": {
  "kernelspec": {
   "display_name": "Python 3",
   "language": "python",
   "name": "python3"
  },
  "language_info": {
   "codemirror_mode": {
    "name": "ipython",
    "version": 3
   },
   "file_extension": ".py",
   "mimetype": "text/x-python",
   "name": "python",
   "nbconvert_exporter": "python",
   "pygments_lexer": "ipython3",
   "version": "3.6.5"
  }
 },
 "nbformat": 4,
 "nbformat_minor": 2
}
